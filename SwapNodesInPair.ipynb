{
  "nbformat": 4,
  "nbformat_minor": 0,
  "metadata": {
    "colab": {
      "name": "Untitled0.ipynb",
      "provenance": [],
      "authorship_tag": "ABX9TyPcTOl5rhnYVeXY/xjWCkWT",
      "include_colab_link": true
    },
    "kernelspec": {
      "name": "python3",
      "display_name": "Python 3"
    }
  },
  "cells": [
    {
      "cell_type": "markdown",
      "metadata": {
        "id": "view-in-github",
        "colab_type": "text"
      },
      "source": [
        "<a href=\"https://colab.research.google.com/github/shahaniket/data-structures/blob/main/SwapNodesInPair.ipynb\" target=\"_parent\"><img src=\"https://colab.research.google.com/assets/colab-badge.svg\" alt=\"Open In Colab\"/></a>"
      ]
    },
    {
      "cell_type": "code",
      "metadata": {
        "id": "bmDrRCdgAynj"
      },
      "source": [
        "class ListNode:\n",
        "  def __init__(self, data):\n",
        "    self.data = data\n",
        "    self.next = None\n",
        "\n",
        "class Solution(object):\n",
        "    def swapPairs(self, head):\n",
        "        if not head or not head.next: return head\n",
        "        dummy = ListNode(0)\n",
        "        dummy.next = head\n",
        "        cur = dummy\n",
        "        \n",
        "        while cur.next and cur.next.next:\n",
        "            first = cur.next\n",
        "            sec = cur.next.next\n",
        "            cur.next = sec\n",
        "            first.next = sec.next\n",
        "            sec.next = first\n",
        "            cur = cur.next.next\n",
        "        return dummy.next\n",
        "\n"
      ],
      "execution_count": null,
      "outputs": []
    }
  ]
}